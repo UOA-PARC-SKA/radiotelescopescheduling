{
 "cells": [
  {
   "cell_type": "markdown",
   "metadata": {},
   "source": [
    "# Result visualization of Multiple telescopes scheduling"
   ]
  },
  {
   "cell_type": "code",
   "execution_count": 290,
   "metadata": {},
   "outputs": [],
   "source": [
    "import pandas as pd\n",
    "import numpy as np\n",
    "import matplotlib.mlab as mlab\n",
    "import matplotlib.pyplot as plt"
   ]
  },
  {
   "cell_type": "code",
   "execution_count": 291,
   "metadata": {},
   "outputs": [],
   "source": [
    "def data_reader(file_dir, length):\n",
    "    col_names = ['No', 'Duration', 'Slew time', 'Wait time', 'Obs time', 'Rel slew', 'Rel wait', 'Rel obs', 'Max attempts',\n",
    "             'Times max att', 'Obs result 1', 'Obs result 2', 'Obs result 3', 'Obs result 4', 'Interruption 1', 'Interruption 2']\n",
    "    data = pd.read_csv(file_dir, names=col_names)\n",
    "    data = data.to_numpy()\n",
    "    return data[length,:]"
   ]
  },
  {
   "cell_type": "markdown",
   "metadata": {},
   "source": [
    "## Dataset 1"
   ]
  },
  {
   "cell_type": "code",
   "execution_count": 292,
   "metadata": {},
   "outputs": [],
   "source": [
    "dataset = 'dataset1'"
   ]
  },
  {
   "cell_type": "markdown",
   "metadata": {},
   "source": [
    "### Reschedule step test\n",
    "Parameters: \\\n",
    "1-8 step: 30 neighbours each time; Multiple tsp polucy; 3 telescopes"
   ]
  },
  {
   "cell_type": "code",
   "execution_count": 293,
   "metadata": {},
   "outputs": [],
   "source": [
    "policy = '1steptsp3'\n",
    "step1tsp_data = np.zeros([10, 3, 16])\n",
    "for i in range(10):\n",
    "    file_dir = 'results/'+dataset+'/'+ policy + '/' + 'batch_'+ str(i) +'_2017_3_21_13_0_0_.csv'\n",
    "    step1tsp_data[i,:,:] = data_reader(file_dir,range(5,8))\n",
    "    \n",
    "step1tsp_mean = np.mean(np.mean(step1tsp_data, axis=0), axis=0)"
   ]
  },
  {
   "cell_type": "code",
   "execution_count": 294,
   "metadata": {
    "scrolled": true
   },
   "outputs": [],
   "source": [
    "policy = '2steptsp3'\n",
    "step2tsp_data = np.zeros([10, 3, 16])\n",
    "for i in range(10):\n",
    "    file_dir = 'results/'+dataset+'/'+ policy + '/' + 'batch_'+ str(i) +'_2017_3_21_13_0_0_.csv'\n",
    "    step2tsp_data[i,:,:] = data_reader(file_dir,range(5,8))\n",
    "    \n",
    "step2tsp_mean = np.mean(np.mean(step2tsp_data, axis=0), axis=0)"
   ]
  },
  {
   "cell_type": "code",
   "execution_count": 295,
   "metadata": {},
   "outputs": [],
   "source": [
    "policy = '3steptsp3'\n",
    "step3tsp_data = np.zeros([10, 3, 16])\n",
    "for i in range(10):\n",
    "    file_dir = 'results/'+dataset+'/'+ policy + '/' + 'batch_'+ str(i) +'_2017_3_21_13_0_0_.csv'\n",
    "    step3tsp_data[i,:,:] = data_reader(file_dir,range(5,8))\n",
    "    \n",
    "step3tsp_mean = np.mean(np.mean(step3tsp_data, axis=0), axis=0)"
   ]
  },
  {
   "cell_type": "code",
   "execution_count": 296,
   "metadata": {},
   "outputs": [],
   "source": [
    "policy = '4steptsp3'\n",
    "step4tsp_data = np.zeros([10, 3, 16])\n",
    "for i in range(10):\n",
    "    file_dir = 'results/'+dataset+'/'+ policy + '/' + 'batch_'+ str(i) +'_2017_3_21_13_0_0_.csv'\n",
    "    step4tsp_data[i,:,:] = data_reader(file_dir,range(5,8))\n",
    "    \n",
    "step4tsp_mean = np.mean(np.mean(step4tsp_data, axis=0), axis=0)"
   ]
  },
  {
   "cell_type": "code",
   "execution_count": 297,
   "metadata": {},
   "outputs": [],
   "source": [
    "policy = '5steptsp3'\n",
    "step5tsp_data = np.zeros([10, 3, 16])\n",
    "for i in range(10):\n",
    "    file_dir = 'results/'+dataset+'/'+ policy + '/' + 'batch_'+ str(i) +'_2017_3_21_13_0_0_.csv'\n",
    "    step5tsp_data[i,:,:] = data_reader(file_dir,range(5,8))\n",
    "    \n",
    "step5tsp_mean = np.mean(np.mean(step5tsp_data, axis=0), axis=0)"
   ]
  },
  {
   "cell_type": "code",
   "execution_count": 298,
   "metadata": {},
   "outputs": [],
   "source": [
    "policy = '6steptsp3'\n",
    "step6tsp_data = np.zeros([10, 3, 16])\n",
    "for i in range(10):\n",
    "    file_dir = 'results/'+dataset+'/'+ policy + '/' + 'batch_'+ str(i) +'_2017_3_21_13_0_0_.csv'\n",
    "    step6tsp_data[i,:,:] = data_reader(file_dir,range(5,8))\n",
    "    \n",
    "step6tsp_mean = np.mean(np.mean(step6tsp_data, axis=0), axis=0)"
   ]
  },
  {
   "cell_type": "code",
   "execution_count": 299,
   "metadata": {},
   "outputs": [],
   "source": [
    "policy = '7steptsp3'\n",
    "step7tsp_data = np.zeros([10, 3, 16])\n",
    "for i in range(10):\n",
    "    file_dir = 'results/'+dataset+'/'+ policy + '/' + 'batch_'+ str(i) +'_2017_3_21_13_0_0_.csv'\n",
    "    step7tsp_data[i,:,:] = data_reader(file_dir,range(5,8))\n",
    "    \n",
    "step7tsp_mean = np.mean(np.mean(step7tsp_data, axis=0), axis=0)"
   ]
  },
  {
   "cell_type": "code",
   "execution_count": 300,
   "metadata": {},
   "outputs": [],
   "source": [
    "policy = '8steptsp3'\n",
    "step8tsp_data = np.zeros([10, 3, 16])\n",
    "for i in range(10):\n",
    "    file_dir = 'results/'+dataset+'/'+ policy + '/' + 'batch_'+ str(i) +'_2017_3_21_13_0_0_.csv'\n",
    "    step8tsp_data[i,:,:] = data_reader(file_dir,range(5,8))\n",
    "    \n",
    "step8tsp_mean = np.mean(np.mean(step8tsp_data, axis=0), axis=0)"
   ]
  },
  {
   "cell_type": "code",
   "execution_count": 301,
   "metadata": {
    "scrolled": false
   },
   "outputs": [
    {
     "data": {
      "text/plain": [
       "Text(0.5, 1.0, 'Average Integration Time vs. Reschedule Step, 3 telescopes setup')"
      ]
     },
     "execution_count": 301,
     "metadata": {},
     "output_type": "execute_result"
    },
    {
     "data": {
      "image/png": "[encoded data removed]",
      "text/plain": [
       "<Figure size 432x288 with 1 Axes>"
      ]
     },
     "metadata": {
      "needs_background": "light"
     },
     "output_type": "display_data"
    }
   ],
   "source": [
    "x = [1,2,3,4,5,6,7,8]\n",
    "y = [step1tsp_mean[1], step2tsp_mean[1], step3tsp_mean[1], step4tsp_mean[1], step5tsp_mean[1], step6tsp_mean[1], step7tsp_mean[1], step8tsp_mean[1]]\n",
    "    \n",
    "plt.plot(x,y)\n",
    "\n",
    "plt.xlabel('Reschedule step')\n",
    "\n",
    "plt.ylabel('Average Integration time [hour]')\n",
    "\n",
    "plt.title('Average Integration Time vs. Reschedule Step, 3 telescopes setup')"
   ]
  },
  {
   "cell_type": "markdown",
   "metadata": {},
   "source": [
    "### The number of telescopes analysis"
   ]
  },
  {
   "cell_type": "code",
   "execution_count": 302,
   "metadata": {},
   "outputs": [],
   "source": [
    "policy = 'tsp'\n",
    "tsp_mean = np.zeros([8, 16])\n",
    "\n",
    "file_dir = 'results/'+dataset+'/'+ 'tsp1' + '/' + 'batch_2017_3_21_13_0_0_.csv'\n",
    "tsp_mean[0,:] = np.mean(data_reader(file_dir,range(5,65)).astype(np.float), axis=0)\n",
    "for j in range(2,9):\n",
    "    tsp_data = np.zeros([10, j, 16])\n",
    "    for i in range(10):\n",
    "        file_dir = 'results/'+dataset+'/'+ policy + str(j) + '/' + 'batch_'+ str(i) +'_2017_3_21_13_0_0_.csv'\n",
    "        tsp_data[i,:,:] = data_reader(file_dir,range(5,5+j))\n",
    "    tsp_mean[j-1,:] = np.mean(np.mean(tsp_data, axis=0), axis=0)"
   ]
  },
  {
   "cell_type": "code",
   "execution_count": 303,
   "metadata": {
    "scrolled": true
   },
   "outputs": [
    {
     "data": {
      "text/plain": [
       "Text(0.5, 1.0, 'Average Integration Time vs. Number of Telescopes, Multiple TSP')"
      ]
     },
     "execution_count": 303,
     "metadata": {},
     "output_type": "execute_result"
    },
    {
     "data": {
      "image/png": "[encoded data removed]",
      "text/plain": [
       "<Figure size 432x288 with 1 Axes>"
      ]
     },
     "metadata": {
      "needs_background": "light"
     },
     "output_type": "display_data"
    }
   ],
   "source": [
    "x = [1,2,3,4,5,6,7,8]\n",
    "y = [1,2,3,4,5,6,7,8]\n",
    "for i in range(8):\n",
    "    y[i] = tsp_mean[i,1]\n",
    "    \n",
    "plt.plot(x,y)\n",
    "\n",
    "plt.xlabel('Number of Telescopes')\n",
    "\n",
    "plt.ylabel('Average Integration time [hour]')\n",
    "\n",
    "plt.title('Average Integration Time vs. Number of Telescopes, Multiple TSP')"
   ]
  },
  {
   "cell_type": "markdown",
   "metadata": {},
   "source": [
    "### Preoptimization policy analysis"
   ]
  },
  {
   "cell_type": "code",
   "execution_count": 304,
   "metadata": {},
   "outputs": [],
   "source": [
    "policy = 'ShortestSlew4tele'\n",
    "ShortestSlew_data = np.zeros([10, 3, 16])\n",
    "ShortestSlew_mean = [1,2]\n",
    "for i in range(10):\n",
    "    file_dir = 'results/'+dataset+'/'+ policy + '/' + 'batch_'+ str(i) +'_2017_3_21_13_0_0_.csv'\n",
    "    ShortestSlew_data[i,:,:] = data_reader(file_dir,range(5,8))\n",
    "    \n",
    "ShortestSlew_mean[0] = np.mean(np.mean(ShortestSlew_data, axis=0), axis=0)\n",
    "\n",
    "policy = 'ShortestSlew30neig'\n",
    "for i in range(10):\n",
    "    file_dir = 'results/'+dataset+'/'+ policy + '/' + 'batch_'+ str(i) +'_2017_3_21_13_0_0_.csv'\n",
    "    ShortestSlew_data[i,:,:] = data_reader(file_dir,range(5,8))\n",
    "    \n",
    "ShortestSlew_mean[1] = np.mean(np.mean(ShortestSlew_data, axis=0), axis=0)"
   ]
  },
  {
   "cell_type": "markdown",
   "metadata": {},
   "source": [
    "2. Random policy"
   ]
  },
  {
   "cell_type": "code",
   "execution_count": 305,
   "metadata": {},
   "outputs": [],
   "source": [
    "policy = 'Random4tele'\n",
    "Random_data = np.zeros([10, 3, 16])\n",
    "Random_mean = [1,2]\n",
    "for i in range(10):\n",
    "    file_dir = 'results/'+dataset+'/'+ policy + '/' + 'batch_'+ str(i) +'_2017_3_21_13_0_0_.csv'\n",
    "    Random_data[i,:,:] = data_reader(file_dir,range(5,8))\n",
    "    \n",
    "Random_mean[0] = np.mean(np.mean(Random_data, axis=0), axis=0)\n",
    "\n",
    "policy = 'Random30neig'\n",
    "for i in range(10):\n",
    "    file_dir = 'results/'+dataset+'/'+ policy + '/' + 'batch_'+ str(i) +'_2017_3_21_13_0_0_.csv'\n",
    "    Random_data[i,:,:] = data_reader(file_dir,range(5,8))\n",
    "    \n",
    "Random_mean[1] = np.mean(np.mean(Random_data, axis=0), axis=0)"
   ]
  },
  {
   "cell_type": "markdown",
   "metadata": {},
   "source": [
    "3. EarliestSetting"
   ]
  },
  {
   "cell_type": "code",
   "execution_count": 306,
   "metadata": {},
   "outputs": [],
   "source": [
    "policy = 'EarliestSetting4tele'\n",
    "EarliestSetting_data = np.zeros([10, 3, 16])\n",
    "for i in range(10):\n",
    "    file_dir = 'results/'+dataset+'/'+ policy + '/' + 'batch_'+ str(i) +'_2017_3_21_13_0_0_.csv'\n",
    "    EarliestSetting_data[i,:,:] = data_reader(file_dir,range(5,8))\n",
    "    \n",
    "EarliestSetting_mean = np.mean(np.mean(EarliestSetting_data, axis=0),axis=0)"
   ]
  },
  {
   "cell_type": "code",
   "execution_count": 307,
   "metadata": {
    "scrolled": true
   },
   "outputs": [
    {
     "data": {
      "text/plain": [
       "<matplotlib.legend.Legend at 0x25c8d4558c8>"
      ]
     },
     "execution_count": 307,
     "metadata": {},
     "output_type": "execute_result"
    },
    {
     "data": {
      "image/png": "[encoded data removed]",
      "text/plain": [
       "<Figure size 432x288 with 1 Axes>"
      ]
     },
     "metadata": {
      "needs_background": "light"
     },
     "output_type": "display_data"
    }
   ],
   "source": [
    "x_data = ['Random', 'ShortestSlew', 'EarliestSetting']\n",
    "x2_width = range(0,len(x_data))\n",
    "x1_width = [i-0.1 for i in x2_width]\n",
    "x1_width[2] = x2_width[2]\n",
    "x3_width = [i+0.1 for i in x2_width]\n",
    "\n",
    "y_1 = [Random_mean[0][1], ShortestSlew_mean[0][1], EarliestSetting_mean[1]]\n",
    "y_2 = [Random_mean[1][1], ShortestSlew_mean[1][1]]\n",
    "\n",
    "\n",
    "b1=plt.bar(x1_width,y_1,width=0.2,label=\"all pulsar as neighbour\")\n",
    "b2=plt.bar(x3_width[0:len(x_data)-1],y_2,width=0.2,label=\"30 earliest setting pulsar as neighbour\")\n",
    "\n",
    "plt.ylim(12,20)\n",
    "plt.xticks(range(len(x_data)),x_data)\n",
    "\n",
    "plt.title(\"Comparison of preoptimization policy\")\n",
    "plt.xlabel(\"Policy\")\n",
    "plt.ylabel(\"Average Time [hour]\")\n",
    "\n",
    "plt.bar_label(b1)\n",
    "plt.bar_label(b2)\n",
    "plt.legend(loc = 'upper right')"
   ]
  },
  {
   "cell_type": "markdown",
   "metadata": {},
   "source": [
    "### Policy performance analysis using 4 telescopes test case\n",
    "#### Data import\n",
    "1. Simple ShortestSlew policy"
   ]
  },
  {
   "cell_type": "code",
   "execution_count": 308,
   "metadata": {},
   "outputs": [],
   "source": [
    "policy = 'ShortestSlew30neig'\n",
    "ShortestSlew_data = np.zeros([10, 3, 16])\n",
    "for i in range(10):\n",
    "    file_dir = 'results/'+dataset+'/'+ policy + '/' + 'batch_'+ str(i) +'_2017_3_21_13_0_0_.csv'\n",
    "    ShortestSlew_data[i,:,:] = data_reader(file_dir,range(5,8))\n",
    "    \n",
    "ShortestSlew_mean = np.mean(ShortestSlew_data, axis=0)"
   ]
  },
  {
   "cell_type": "markdown",
   "metadata": {},
   "source": [
    "2. Random policy"
   ]
  },
  {
   "cell_type": "code",
   "execution_count": 309,
   "metadata": {},
   "outputs": [],
   "source": [
    "policy = 'Random30neig'\n",
    "Random_data = np.zeros([10, 3, 16])\n",
    "for i in range(10):\n",
    "    file_dir = 'results/'+dataset+'/'+ policy + '/' + 'batch_'+ str(i) +'_2017_3_21_13_0_0_.csv'\n",
    "    Random_data[i,:,:] = data_reader(file_dir,range(5,8))\n",
    "    \n",
    "Random_mean = np.mean(Random_data, axis=0)"
   ]
  },
  {
   "cell_type": "markdown",
   "metadata": {},
   "source": [
    "3. EarliestSetting"
   ]
  },
  {
   "cell_type": "code",
   "execution_count": 310,
   "metadata": {},
   "outputs": [],
   "source": [
    "policy = 'EarliestSetting4tele'\n",
    "EarliestSetting_data = np.zeros([10, 3, 16])\n",
    "for i in range(10):\n",
    "    file_dir = 'results/'+dataset+'/'+ policy + '/' + 'batch_'+ str(i) +'_2017_3_21_13_0_0_.csv'\n",
    "    EarliestSetting_data[i,:,:] = data_reader(file_dir,range(5,8))\n",
    "    \n",
    "EarliestSetting_mean = np.mean(EarliestSetting_data, axis=0)"
   ]
  },
  {
   "cell_type": "markdown",
   "metadata": {},
   "source": [
    "4. MultipleTSP "
   ]
  },
  {
   "cell_type": "code",
   "execution_count": 311,
   "metadata": {},
   "outputs": [],
   "source": [
    "policy = 'tsp4'\n",
    "tsp_data = np.zeros([10, 3, 16])\n",
    "for i in range(10):\n",
    "    file_dir = 'results/'+dataset+'/'+ policy + '/' + 'batch_'+ str(i) +'_2017_3_21_13_0_0_.csv'\n",
    "    tsp_data[i,:,:] = data_reader(file_dir,range(5,8))\n",
    "    \n",
    "tsp_mean = np.mean(tsp_data, axis=0)"
   ]
  },
  {
   "cell_type": "markdown",
   "metadata": {},
   "source": [
    "#### Total observation duration"
   ]
  },
  {
   "cell_type": "code",
   "execution_count": 312,
   "metadata": {
    "scrolled": true
   },
   "outputs": [
    {
     "data": {
      "text/plain": [
       "<matplotlib.legend.Legend at 0x25c8d4e4148>"
      ]
     },
     "execution_count": 312,
     "metadata": {},
     "output_type": "execute_result"
    },
    {
     "data": {
      "image/png": "[encoded data removed]",
      "text/plain": [
       "<Figure size 432x288 with 1 Axes>"
      ]
     },
     "metadata": {
      "needs_background": "light"
     },
     "output_type": "display_data"
    }
   ],
   "source": [
    "x_data = ['Random', 'ShortestSlew', 'EarliestSetting', 'MultipleTSP']\n",
    "x2_width = range(0,len(x_data))\n",
    "x1_width = [i-0.2 for i in x2_width]\n",
    "x3_width = [i+0.2 for i in x2_width]\n",
    "\n",
    "y_1 = [Random_mean[0,1], ShortestSlew_mean[0,1], EarliestSetting_mean[0,1], tsp_mean[0,1]]\n",
    "y_2 = [Random_mean[1,1], ShortestSlew_mean[1,1], EarliestSetting_mean[1,1], tsp_mean[1,1]]\n",
    "y_3 = [Random_mean[2,1], ShortestSlew_mean[2,1], EarliestSetting_mean[2,1], tsp_mean[2,1]]\n",
    "\n",
    "b1=plt.bar(x1_width,y_1,width=0.2,label=\"Telescope 1\")\n",
    "b2=plt.bar(x2_width,y_2,width=0.2,label=\"Telescope 2\")\n",
    "b3=plt.bar(x3_width,y_3,width=0.2,label=\"Telescope 3\")\n",
    "\n",
    "plt.xticks(range(len(x_data)),x_data)\n",
    "\n",
    "plt.title(\"Total observation duration\")\n",
    "plt.xlabel(\"Policy\")\n",
    "plt.ylabel(\"Average Time [hour]\")\n",
    "\n",
    "plt.ylim(12,17)\n",
    "\n",
    "plt.bar_label(b1)\n",
    "plt.bar_label(b2)\n",
    "plt.bar_label(b3)\n",
    "plt.legend(loc = 'upper right')"
   ]
  },
  {
   "cell_type": "code",
   "execution_count": 313,
   "metadata": {},
   "outputs": [
    {
     "data": {
      "text/plain": [
       "<matplotlib.legend.Legend at 0x25c8d5b9d08>"
      ]
     },
     "execution_count": 313,
     "metadata": {},
     "output_type": "execute_result"
    },
    {
     "data": {
      "image/png": "[encoded data removed]",
      "text/plain": [
       "<Figure size 432x288 with 1 Axes>"
      ]
     },
     "metadata": {
      "needs_background": "light"
     },
     "output_type": "display_data"
    }
   ],
   "source": [
    "x_data = ['Random', 'ShortestSlew', 'EarliestSetting', 'MultipleTSP']\n",
    "x2_width = range(0,len(x_data))\n",
    "x1_width = [i-0.2 for i in x2_width]\n",
    "x3_width = [i+0.2 for i in x2_width]\n",
    "\n",
    "y_1 = [Random_mean[0,2], ShortestSlew_mean[0,2], EarliestSetting_mean[0,2], tsp_mean[0,2]]\n",
    "y_2 = [Random_mean[1,2], ShortestSlew_mean[1,2], EarliestSetting_mean[1,2], tsp_mean[1,2]]\n",
    "y_3 = [Random_mean[2,2], ShortestSlew_mean[2,2], EarliestSetting_mean[2,2], tsp_mean[2,2]]\n",
    "\n",
    "b1=plt.bar(x1_width,y_1,width=0.2,label=\"Telescope 1\")\n",
    "b2=plt.bar(x2_width,y_2,width=0.2,label=\"Telescope 2\")\n",
    "b3=plt.bar(x3_width,y_3,width=0.2,label=\"Telescope 3\")\n",
    "\n",
    "plt.xticks(range(len(x_data)),x_data)\n",
    "\n",
    "plt.title(\"Total slew time\")\n",
    "plt.xlabel(\"Policy\")\n",
    "plt.ylabel(\"Average Time [hour]\")\n",
    "\n",
    "\n",
    "plt.bar_label(b1)\n",
    "plt.bar_label(b2)\n",
    "plt.bar_label(b3)\n",
    "plt.legend()"
   ]
  },
  {
   "cell_type": "markdown",
   "metadata": {},
   "source": [
    "#### Total waiting time"
   ]
  },
  {
   "cell_type": "code",
   "execution_count": 314,
   "metadata": {},
   "outputs": [
    {
     "data": {
      "text/plain": [
       "<matplotlib.legend.Legend at 0x25c8d600fc8>"
      ]
     },
     "execution_count": 314,
     "metadata": {},
     "output_type": "execute_result"
    },
    {
     "data": {
      "image/png": "[encoded data removed]",
      "text/plain": [
       "<Figure size 432x288 with 1 Axes>"
      ]
     },
     "metadata": {
      "needs_background": "light"
     },
     "output_type": "display_data"
    }
   ],
   "source": [
    "x_data = ['Random', 'ShortestSlew', 'EarliestSetting', 'MultipleTSP']\n",
    "x2_width = range(0,len(x_data))\n",
    "x1_width = [i-0.2 for i in x2_width]\n",
    "x3_width = [i+0.2 for i in x2_width]\n",
    "\n",
    "y_1 = [Random_mean[0,3], ShortestSlew_mean[0,3], EarliestSetting_mean[0,3], tsp_mean[0,3]]\n",
    "y_2 = [Random_mean[1,3], ShortestSlew_mean[1,3], EarliestSetting_mean[1,3], tsp_mean[1,3]]\n",
    "y_3 = [Random_mean[2,3], ShortestSlew_mean[2,3], EarliestSetting_mean[2,3], tsp_mean[2,3]]\n",
    "\n",
    "plt.bar(x1_width,y_1,width=0.2,label=\"Telescope 1\")\n",
    "plt.bar(x2_width,y_2,width=0.2,label=\"Telescope 2\")\n",
    "plt.bar(x3_width,y_3,width=0.2,label=\"Telescope 3\")\n",
    "\n",
    "plt.xticks(range(len(x_data)),x_data)\n",
    "\n",
    "plt.title(\"Total waiting time\")\n",
    "plt.xlabel(\"Policy\")\n",
    "plt.ylabel(\"Average Time [hour]\")\n",
    "\n",
    "plt.legend(loc = 'lower right')"
   ]
  },
  {
   "cell_type": "markdown",
   "metadata": {},
   "source": [
    "## Dataset 2"
   ]
  },
  {
   "cell_type": "code",
   "execution_count": 315,
   "metadata": {},
   "outputs": [],
   "source": [
    "dataset = 'dataset2'"
   ]
  },
  {
   "cell_type": "markdown",
   "metadata": {},
   "source": [
    "### Reschedule step test\n",
    "Parameters: \\\n",
    "1-8 step: 30 neighbours each time; Multiple tsp polucy; 3 telescopes"
   ]
  },
  {
   "cell_type": "code",
   "execution_count": 316,
   "metadata": {},
   "outputs": [],
   "source": [
    "policy = '1steptsp3'\n",
    "step1tsp_data = np.zeros([10, 3, 16])\n",
    "for i in range(10):\n",
    "    file_dir = 'results/'+dataset+'/'+ policy + '/' + 'batch_'+ str(i) +'_2017_3_21_13_0_0_.csv'\n",
    "    step1tsp_data[i,:,:] = data_reader(file_dir,range(5,8))\n",
    "    \n",
    "step1tsp_mean = np.mean(np.mean(step1tsp_data, axis=0), axis=0)"
   ]
  },
  {
   "cell_type": "code",
   "execution_count": 317,
   "metadata": {
    "scrolled": true
   },
   "outputs": [],
   "source": [
    "policy = '2steptsp3'\n",
    "step2tsp_data = np.zeros([10, 3, 16])\n",
    "for i in range(10):\n",
    "    file_dir = 'results/'+dataset+'/'+ policy + '/' + 'batch_'+ str(i) +'_2017_3_21_13_0_0_.csv'\n",
    "    step2tsp_data[i,:,:] = data_reader(file_dir,range(5,8))\n",
    "    \n",
    "step2tsp_mean = np.mean(np.mean(step2tsp_data, axis=0), axis=0)"
   ]
  },
  {
   "cell_type": "code",
   "execution_count": 318,
   "metadata": {},
   "outputs": [],
   "source": [
    "policy = '3steptsp3'\n",
    "step3tsp_data = np.zeros([10, 3, 16])\n",
    "for i in range(10):\n",
    "    file_dir = 'results/'+dataset+'/'+ policy + '/' + 'batch_'+ str(i) +'_2017_3_21_13_0_0_.csv'\n",
    "    step3tsp_data[i,:,:] = data_reader(file_dir,range(5,8))\n",
    "    \n",
    "step3tsp_mean = np.mean(np.mean(step3tsp_data, axis=0), axis=0)"
   ]
  },
  {
   "cell_type": "code",
   "execution_count": 319,
   "metadata": {},
   "outputs": [],
   "source": [
    "policy = '4steptsp3'\n",
    "step4tsp_data = np.zeros([10, 3, 16])\n",
    "for i in range(10):\n",
    "    file_dir = 'results/'+dataset+'/'+ policy + '/' + 'batch_'+ str(i) +'_2017_3_21_13_0_0_.csv'\n",
    "    step4tsp_data[i,:,:] = data_reader(file_dir,range(5,8))\n",
    "    \n",
    "step4tsp_mean = np.mean(np.mean(step4tsp_data, axis=0), axis=0)"
   ]
  },
  {
   "cell_type": "code",
   "execution_count": 320,
   "metadata": {},
   "outputs": [],
   "source": [
    "policy = '5steptsp3'\n",
    "step5tsp_data = np.zeros([10, 3, 16])\n",
    "for i in range(10):\n",
    "    file_dir = 'results/'+dataset+'/'+ policy + '/' + 'batch_'+ str(i) +'_2017_3_21_13_0_0_.csv'\n",
    "    step5tsp_data[i,:,:] = data_reader(file_dir,range(5,8))\n",
    "    \n",
    "step5tsp_mean = np.mean(np.mean(step5tsp_data, axis=0), axis=0)"
   ]
  },
  {
   "cell_type": "code",
   "execution_count": 321,
   "metadata": {},
   "outputs": [],
   "source": [
    "policy = '6steptsp3'\n",
    "step6tsp_data = np.zeros([10, 3, 16])\n",
    "for i in range(10):\n",
    "    file_dir = 'results/'+dataset+'/'+ policy + '/' + 'batch_'+ str(i) +'_2017_3_21_13_0_0_.csv'\n",
    "    step6tsp_data[i,:,:] = data_reader(file_dir,range(5,8))\n",
    "    \n",
    "step6tsp_mean = np.mean(np.mean(step6tsp_data, axis=0), axis=0)"
   ]
  },
  {
   "cell_type": "code",
   "execution_count": 322,
   "metadata": {},
   "outputs": [],
   "source": [
    "policy = '7steptsp3'\n",
    "step7tsp_data = np.zeros([10, 3, 16])\n",
    "for i in range(10):\n",
    "    file_dir = 'results/'+dataset+'/'+ policy + '/' + 'batch_'+ str(i) +'_2017_3_21_13_0_0_.csv'\n",
    "    step7tsp_data[i,:,:] = data_reader(file_dir,range(5,8))\n",
    "    \n",
    "step7tsp_mean = np.mean(np.mean(step7tsp_data, axis=0), axis=0)"
   ]
  },
  {
   "cell_type": "code",
   "execution_count": 323,
   "metadata": {},
   "outputs": [],
   "source": [
    "policy = '8steptsp3'\n",
    "step8tsp_data = np.zeros([10, 3, 16])\n",
    "for i in range(10):\n",
    "    file_dir = 'results/'+dataset+'/'+ policy + '/' + 'batch_'+ str(i) +'_2017_3_21_13_0_0_.csv'\n",
    "    step8tsp_data[i,:,:] = data_reader(file_dir,range(5,8))\n",
    "    \n",
    "step8tsp_mean = np.mean(np.mean(step8tsp_data, axis=0), axis=0)"
   ]
  },
  {
   "cell_type": "code",
   "execution_count": 324,
   "metadata": {
    "scrolled": true
   },
   "outputs": [
    {
     "data": {
      "text/plain": [
       "Text(0.5, 1.0, 'Average Integration Time vs. Reschedule Step, 3 telescopes setup')"
      ]
     },
     "execution_count": 324,
     "metadata": {},
     "output_type": "execute_result"
    },
    {
     "data": {
      "image/png": "[encoded data removed]",
      "text/plain": [
       "<Figure size 432x288 with 1 Axes>"
      ]
     },
     "metadata": {
      "needs_background": "light"
     },
     "output_type": "display_data"
    }
   ],
   "source": [
    "x = [1,2,3,4,5,6,7,8]\n",
    "y = [step1tsp_mean[1], step2tsp_mean[1], step3tsp_mean[1], step4tsp_mean[1], step5tsp_mean[1], step6tsp_mean[1], step7tsp_mean[1], step8tsp_mean[1]]\n",
    "    \n",
    "plt.plot(x,y)\n",
    "\n",
    "plt.xlabel('Reschedule step')\n",
    "\n",
    "plt.ylabel('Average Integration time [hour]')\n",
    "\n",
    "plt.title('Average Integration Time vs. Reschedule Step, 3 telescopes setup')"
   ]
  },
  {
   "cell_type": "markdown",
   "metadata": {},
   "source": [
    "### Number of telescopes performance analysis"
   ]
  },
  {
   "cell_type": "code",
   "execution_count": 325,
   "metadata": {},
   "outputs": [],
   "source": [
    "policy = 'tsp'\n",
    "tsp_mean = np.zeros([8, 16])\n",
    "\n",
    "file_dir = 'results/'+dataset+'/'+ 'tsp1' + '/' + 'batch_2017_3_21_13_0_0_.csv'\n",
    "tsp_mean[0,:] = np.mean(data_reader(file_dir,range(5,95)).astype(np.float), axis=0)\n",
    "for j in range(2,9):\n",
    "    tsp_data = np.zeros([10, j, 16])\n",
    "    for i in range(10):\n",
    "        file_dir = 'results/'+dataset+'/'+ policy + str(j) + '/' + 'batch_'+ str(i) +'_2017_3_21_13_0_0_.csv'\n",
    "        tsp_data[i,:,:] = data_reader(file_dir,range(5,5+j))\n",
    "    tsp_mean[j-1,:] = np.mean(np.mean(tsp_data, axis=0), axis=0)"
   ]
  },
  {
   "cell_type": "code",
   "execution_count": 326,
   "metadata": {
    "scrolled": true
   },
   "outputs": [
    {
     "data": {
      "text/plain": [
       "Text(0.5, 1.0, 'Average Integration Time vs. Number of Telescopes, Multiple TSP')"
      ]
     },
     "execution_count": 326,
     "metadata": {},
     "output_type": "execute_result"
    },
    {
     "data": {
      "image/png": "[encoded data removed]",
      "text/plain": [
       "<Figure size 432x288 with 1 Axes>"
      ]
     },
     "metadata": {
      "needs_background": "light"
     },
     "output_type": "display_data"
    }
   ],
   "source": [
    "x = [1,2,3,4,5,6,7,8]\n",
    "y = [1,2,3,4,5,6,7,8]\n",
    "for i in range(8):\n",
    "    y[i] = tsp_mean[i,1]\n",
    "    \n",
    "plt.plot(x,y)\n",
    "\n",
    "plt.xlabel('Number of Telescopes')\n",
    "\n",
    "plt.ylabel('Average Integration time [hour]')\n",
    "\n",
    "plt.title('Average Integration Time vs. Number of Telescopes, Multiple TSP')"
   ]
  },
  {
   "cell_type": "markdown",
   "metadata": {},
   "source": [
    "### Preoptimization policy analysis"
   ]
  },
  {
   "cell_type": "code",
   "execution_count": 327,
   "metadata": {},
   "outputs": [],
   "source": [
    "policy = 'ShortestSlew4tele'\n",
    "ShortestSlew_data = np.zeros([10, 3, 16])\n",
    "ShortestSlew_mean = [1,2]\n",
    "for i in range(10):\n",
    "    file_dir = 'results/'+dataset+'/'+ policy + '/' + 'batch_'+ str(i) +'_2017_3_21_13_0_0_.csv'\n",
    "    ShortestSlew_data[i,:,:] = data_reader(file_dir,range(5,8))\n",
    "    \n",
    "ShortestSlew_mean[0] = np.mean(np.mean(ShortestSlew_data, axis=0), axis=0)\n",
    "\n",
    "policy = 'ShortestSlew30neig'\n",
    "for i in range(10):\n",
    "    file_dir = 'results/'+dataset+'/'+ policy + '/' + 'batch_'+ str(i) +'_2017_3_21_13_0_0_.csv'\n",
    "    ShortestSlew_data[i,:,:] = data_reader(file_dir,range(5,8))\n",
    "    \n",
    "ShortestSlew_mean[1] = np.mean(np.mean(ShortestSlew_data, axis=0), axis=0)"
   ]
  },
  {
   "cell_type": "markdown",
   "metadata": {},
   "source": [
    "2. Random policy"
   ]
  },
  {
   "cell_type": "code",
   "execution_count": 328,
   "metadata": {},
   "outputs": [],
   "source": [
    "policy = 'Random4tele'\n",
    "Random_data = np.zeros([10, 3, 16])\n",
    "Random_mean = [1,2]\n",
    "for i in range(10):\n",
    "    file_dir = 'results/'+dataset+'/'+ policy + '/' + 'batch_'+ str(i) +'_2017_3_21_13_0_0_.csv'\n",
    "    Random_data[i,:,:] = data_reader(file_dir,range(5,8))\n",
    "    \n",
    "Random_mean[0] = np.mean(np.mean(Random_data, axis=0), axis=0)\n",
    "\n",
    "policy = 'Random30neig'\n",
    "for i in range(10):\n",
    "    file_dir = 'results/'+dataset+'/'+ policy + '/' + 'batch_'+ str(i) +'_2017_3_21_13_0_0_.csv'\n",
    "    Random_data[i,:,:] = data_reader(file_dir,range(5,8))\n",
    "    \n",
    "Random_mean[1] = np.mean(np.mean(Random_data, axis=0), axis=0)"
   ]
  },
  {
   "cell_type": "markdown",
   "metadata": {},
   "source": [
    "3. EarliestSetting"
   ]
  },
  {
   "cell_type": "code",
   "execution_count": 329,
   "metadata": {},
   "outputs": [],
   "source": [
    "policy = 'EarliestSetting4tele'\n",
    "EarliestSetting_data = np.zeros([10, 3, 16])\n",
    "for i in range(10):\n",
    "    file_dir = 'results/'+dataset+'/'+ policy + '/' + 'batch_'+ str(i) +'_2017_3_21_13_0_0_.csv'\n",
    "    EarliestSetting_data[i,:,:] = data_reader(file_dir,range(5,8))\n",
    "    \n",
    "EarliestSetting_mean = np.mean(np.mean(EarliestSetting_data, axis=0),axis=0)"
   ]
  },
  {
   "cell_type": "code",
   "execution_count": 330,
   "metadata": {
    "scrolled": true
   },
   "outputs": [
    {
     "data": {
      "text/plain": [
       "<matplotlib.legend.Legend at 0x25c8d79f048>"
      ]
     },
     "execution_count": 330,
     "metadata": {},
     "output_type": "execute_result"
    },
    {
     "data": {
      "image/png": "[encoded data removed]",
      "text/plain": [
       "<Figure size 432x288 with 1 Axes>"
      ]
     },
     "metadata": {
      "needs_background": "light"
     },
     "output_type": "display_data"
    }
   ],
   "source": [
    "x_data = ['Random', 'ShortestSlew', 'EarliestSetting']\n",
    "x2_width = range(0,len(x_data))\n",
    "x1_width = [i-0.1 for i in x2_width]\n",
    "x1_width[2] = x2_width[2]\n",
    "x3_width = [i+0.1 for i in x2_width]\n",
    "\n",
    "y_1 = [Random_mean[0][1], ShortestSlew_mean[0][1], EarliestSetting_mean[1]]\n",
    "y_2 = [Random_mean[1][1], ShortestSlew_mean[1][1]]\n",
    "\n",
    "\n",
    "b1=plt.bar(x1_width,y_1,width=0.2,label=\"all pulsar as neighbour\")\n",
    "b2=plt.bar(x3_width[0:len(x_data)-1],y_2,width=0.2,label=\"30 earliest setting pulsar as neighbour\")\n",
    "\n",
    "plt.ylim(28,40)\n",
    "plt.xticks(range(len(x_data)),x_data)\n",
    "\n",
    "plt.title(\"Comparison of preoptimization policy\")\n",
    "plt.xlabel(\"Policy\")\n",
    "plt.ylabel(\"Average Time [hour]\")\n",
    "\n",
    "plt.bar_label(b1)\n",
    "plt.bar_label(b2)\n",
    "plt.legend(loc = 'upper right')"
   ]
  },
  {
   "cell_type": "markdown",
   "metadata": {},
   "source": [
    "### Policy performance analysis using 4 telescopes test case\n",
    "#### Data import\n",
    "1. Simple ShortestSlew policy"
   ]
  },
  {
   "cell_type": "code",
   "execution_count": 331,
   "metadata": {},
   "outputs": [],
   "source": [
    "policy = 'ShortestSlew4tele'\n",
    "ShortestSlew_data = np.zeros([10, 3, 16])\n",
    "for i in range(10):\n",
    "    file_dir = 'results/'+dataset+'/'+ policy + '/' + 'batch_'+ str(i) +'_2017_3_21_13_0_0_.csv'\n",
    "    ShortestSlew_data[i,:,:] = data_reader(file_dir,range(5,8))\n",
    "    \n",
    "ShortestSlew_mean = np.mean(ShortestSlew_data, axis=0)"
   ]
  },
  {
   "cell_type": "markdown",
   "metadata": {},
   "source": [
    "2. Random policy"
   ]
  },
  {
   "cell_type": "code",
   "execution_count": 332,
   "metadata": {},
   "outputs": [],
   "source": [
    "policy = 'Random30neig'\n",
    "Random_data = np.zeros([10, 3, 16])\n",
    "for i in range(10):\n",
    "    file_dir = 'results/'+dataset+'/'+ policy + '/' + 'batch_'+ str(i) +'_2017_3_21_13_0_0_.csv'\n",
    "    Random_data[i,:,:] = data_reader(file_dir,range(5,8))\n",
    "    \n",
    "Random_mean = np.mean(Random_data, axis=0)"
   ]
  },
  {
   "cell_type": "markdown",
   "metadata": {},
   "source": [
    "3. EarliestSetting"
   ]
  },
  {
   "cell_type": "code",
   "execution_count": 333,
   "metadata": {},
   "outputs": [],
   "source": [
    "policy = 'EarliestSetting4tele'\n",
    "EarliestSetting_data = np.zeros([10, 3, 16])\n",
    "for i in range(10):\n",
    "    file_dir = 'results/'+dataset+'/'+ policy + '/' + 'batch_'+ str(i) +'_2017_3_21_13_0_0_.csv'\n",
    "    EarliestSetting_data[i,:,:] = data_reader(file_dir,range(5,8))\n",
    "    \n",
    "EarliestSetting_mean = np.mean(EarliestSetting_data, axis=0)"
   ]
  },
  {
   "cell_type": "markdown",
   "metadata": {},
   "source": [
    "4. MultipleTSP "
   ]
  },
  {
   "cell_type": "code",
   "execution_count": 334,
   "metadata": {},
   "outputs": [],
   "source": [
    "policy = 'tsp4'\n",
    "tsp_data = np.zeros([10, 3, 16])\n",
    "for i in range(10):\n",
    "    file_dir = 'results/'+dataset+'/'+ policy + '/' + 'batch_'+ str(i) +'_2017_3_21_13_0_0_.csv'\n",
    "    tsp_data[i,:,:] = data_reader(file_dir,range(5,8))\n",
    "    \n",
    "tsp_mean = np.mean(tsp_data, axis=0)"
   ]
  },
  {
   "cell_type": "markdown",
   "metadata": {},
   "source": [
    "#### Total observation duration"
   ]
  },
  {
   "cell_type": "code",
   "execution_count": 335,
   "metadata": {},
   "outputs": [
    {
     "data": {
      "text/plain": [
       "<matplotlib.legend.Legend at 0x25c8d8786c8>"
      ]
     },
     "execution_count": 335,
     "metadata": {},
     "output_type": "execute_result"
    },
    {
     "data": {
      "image/png": "[encoded data removed]",
      "text/plain": [
       "<Figure size 432x288 with 1 Axes>"
      ]
     },
     "metadata": {
      "needs_background": "light"
     },
     "output_type": "display_data"
    }
   ],
   "source": [
    "x_data = ['Random', 'ShortestSlew', 'EarliestSetting', 'MultipleTSP']\n",
    "x2_width = range(0,len(x_data))\n",
    "x1_width = [i-0.2 for i in x2_width]\n",
    "x3_width = [i+0.2 for i in x2_width]\n",
    "\n",
    "y_1 = [Random_mean[0,1], ShortestSlew_mean[0,1], EarliestSetting_mean[0,1], tsp_mean[0,1]]\n",
    "y_2 = [Random_mean[1,1], ShortestSlew_mean[1,1], EarliestSetting_mean[1,1], tsp_mean[1,1]]\n",
    "y_3 = [Random_mean[2,1], ShortestSlew_mean[2,1], EarliestSetting_mean[2,1], tsp_mean[2,1]]\n",
    "\n",
    "b1=plt.bar(x1_width,y_1,width=0.2,label=\"Telescope 1\")\n",
    "b2=plt.bar(x2_width,y_2,width=0.2,label=\"Telescope 2\")\n",
    "b3=plt.bar(x3_width,y_3,width=0.2,label=\"Telescope 3\")\n",
    "\n",
    "plt.xticks(range(len(x_data)),x_data)\n",
    "\n",
    "plt.title(\"Total observation duration\")\n",
    "plt.xlabel(\"Policy\")\n",
    "plt.ylabel(\"Average Time [hour]\")\n",
    "\n",
    "plt.ylim(28,41)\n",
    "\n",
    "plt.bar_label(b1)\n",
    "plt.bar_label(b2)\n",
    "plt.bar_label(b3)\n",
    "plt.legend(loc = 'upper right')"
   ]
  },
  {
   "cell_type": "code",
   "execution_count": 336,
   "metadata": {},
   "outputs": [
    {
     "data": {
      "text/plain": [
       "<matplotlib.legend.Legend at 0x25c8d8cf888>"
      ]
     },
     "execution_count": 336,
     "metadata": {},
     "output_type": "execute_result"
    },
    {
     "data": {
      "image/png": "[encoded data removed]",
      "text/plain": [
       "<Figure size 432x288 with 1 Axes>"
      ]
     },
     "metadata": {
      "needs_background": "light"
     },
     "output_type": "display_data"
    }
   ],
   "source": [
    "x_data = ['Random', 'ShortestSlew', 'EarliestSetting', 'MultipleTSP']\n",
    "x2_width = range(0,len(x_data))\n",
    "x1_width = [i-0.2 for i in x2_width]\n",
    "x3_width = [i+0.2 for i in x2_width]\n",
    "\n",
    "y_1 = [Random_mean[0,2], ShortestSlew_mean[0,2], EarliestSetting_mean[0,2], tsp_mean[0,2]]\n",
    "y_2 = [Random_mean[1,2], ShortestSlew_mean[1,2], EarliestSetting_mean[1,2], tsp_mean[1,2]]\n",
    "y_3 = [Random_mean[2,2], ShortestSlew_mean[2,2], EarliestSetting_mean[2,2], tsp_mean[2,2]]\n",
    "\n",
    "plt.bar(x1_width,y_1,width=0.2,label=\"Telescope 1\")\n",
    "plt.bar(x2_width,y_2,width=0.2,label=\"Telescope 2\")\n",
    "plt.bar(x3_width,y_3,width=0.2,label=\"Telescope 3\")\n",
    "\n",
    "plt.xticks(range(len(x_data)),x_data)\n",
    "\n",
    "plt.title(\"Total slew time\")\n",
    "plt.xlabel(\"Policy\")\n",
    "plt.ylabel(\"Average Time [hour]\")\n",
    "\n",
    "plt.legend()"
   ]
  },
  {
   "cell_type": "markdown",
   "metadata": {},
   "source": [
    "#### Total waiting time"
   ]
  },
  {
   "cell_type": "code",
   "execution_count": 340,
   "metadata": {},
   "outputs": [
    {
     "data": {
      "text/plain": [
       "<matplotlib.legend.Legend at 0x25c8db3c788>"
      ]
     },
     "execution_count": 340,
     "metadata": {},
     "output_type": "execute_result"
    },
    {
     "data": {
      "image/png": "[encoded data removed]",
      "text/plain": [
       "<Figure size 432x288 with 1 Axes>"
      ]
     },
     "metadata": {
      "needs_background": "light"
     },
     "output_type": "display_data"
    }
   ],
   "source": [
    "x_data = ['Random', 'ShortestSlew', 'EarliestSetting', 'MultipleTSP']\n",
    "x2_width = range(0,len(x_data))\n",
    "x1_width = [i-0.2 for i in x2_width]\n",
    "x3_width = [i+0.2 for i in x2_width]\n",
    "\n",
    "y_1 = [Random_mean[0,3], ShortestSlew_mean[0,3], EarliestSetting_mean[0,3], tsp_mean[0,3]]\n",
    "y_2 = [Random_mean[1,3], ShortestSlew_mean[1,3], EarliestSetting_mean[1,3], tsp_mean[1,3]]\n",
    "y_3 = [Random_mean[2,3], ShortestSlew_mean[2,3], EarliestSetting_mean[2,3], tsp_mean[2,3]]\n",
    "\n",
    "plt.bar(x1_width,y_1,width=0.2,label=\"Telescope 1\")\n",
    "plt.bar(x2_width,y_2,width=0.2,label=\"Telescope 2\")\n",
    "plt.bar(x3_width,y_3,width=0.2,label=\"Telescope 3\")\n",
    "\n",
    "plt.xticks(range(len(x_data)),x_data)\n",
    "\n",
    "plt.title(\"Total waiting time\")\n",
    "plt.xlabel(\"Policy\")\n",
    "plt.ylabel(\"Average Time [hour]\")\n",
    "plt.ylim(10,20)\n",
    "plt.legend(loc = 'upper right')"
   ]
  },
  {
   "cell_type": "markdown",
   "metadata": {},
   "source": [
    "# aaaa"
   ]
  },
  {
   "cell_type": "markdown",
   "metadata": {},
   "source": [
    "#### Simple ShortestSlew policy"
   ]
  },
  {
   "cell_type": "code",
   "execution_count": 27,
   "metadata": {
    "scrolled": true
   },
   "outputs": [],
   "source": [
    "policy = 'ShortestSlew'\n",
    "ShortestSlew_mean = np.zeros([8, 16])\n",
    "\n",
    "file_dir = 'results/'+dataset+'/'+ 'ShortestSlew1' + '/' + 'batch_2017_3_21_13_0_0_.csv'\n",
    "ShortestSlew_mean[0,:] = np.mean(data_reader(file_dir,range(5,15)).astype(np.float), axis=0)\n",
    "for j in range(2,9):\n",
    "    ShortestSlew_data = np.zeros([10, j, 16])\n",
    "    for i in range(10):\n",
    "        file_dir = 'results/'+dataset+'/'+ policy + str(j) + '/' + 'batch_'+ str(i) +'_2017_3_21_13_0_0_.csv'\n",
    "        ShortestSlew_data[i,:,:] = data_reader(file_dir,range(5,5+j))\n",
    "    ShortestSlew_mean[j-1,:] = np.mean(np.mean(ShortestSlew_data, axis=0), axis=0)"
   ]
  },
  {
   "cell_type": "code",
   "execution_count": 28,
   "metadata": {},
   "outputs": [],
   "source": [
    "policy = '10neigShortestSlew'\n",
    "neig10ShortestSlew_mean = np.zeros([8, 16])\n",
    "\n",
    "file_dir = 'results/'+dataset+'/'+ '10neigShortestSlew1' + '/' + 'batch_2017_3_21_13_0_0_.csv'\n",
    "neig10ShortestSlew_mean[0,:] = np.mean(data_reader(file_dir,range(5,15)).astype(np.float), axis=0)\n",
    "for j in range(2,9):\n",
    "    ShortestSlew_data = np.zeros([10, j, 16])\n",
    "    for i in range(10):\n",
    "        file_dir = 'results/'+dataset+'/'+ policy + str(j) + '/' + 'batch_'+ str(i) +'_2017_3_21_13_0_0_.csv'\n",
    "        ShortestSlew_data[i,:,:] = data_reader(file_dir,range(5,5+j))\n",
    "    neig10ShortestSlew_mean[j-1,:] = np.mean(np.mean(ShortestSlew_data, axis=0), axis=0)"
   ]
  },
  {
   "cell_type": "code",
   "execution_count": 29,
   "metadata": {
    "scrolled": true
   },
   "outputs": [
    {
     "data": {
      "text/plain": [
       "<matplotlib.legend.Legend at 0x23d3f9e5108>"
      ]
     },
     "execution_count": 29,
     "metadata": {},
     "output_type": "execute_result"
    },
    {
     "data": {
      "image/png": "[encoded data removed]",
      "text/plain": [
       "<Figure size 432x288 with 1 Axes>"
      ]
     },
     "metadata": {
      "needs_background": "light"
     },
     "output_type": "display_data"
    }
   ],
   "source": [
    "x = [1,2,3,4,5,6,7,8]\n",
    "y1 = [1,2,3,4,5,6,7,8]\n",
    "y2 = [1,2,3,4,5,6,7,8]\n",
    "for i in range(8):\n",
    "    y1[i] = ShortestSlew_mean[i,1]\n",
    "    y2[i] = neig10ShortestSlew_mean[i,1]\n",
    "    \n",
    "plt.plot(x,y1)\n",
    "plt.plot(x,y2)\n",
    "\n",
    "plt.xlabel('Number of Telescopes')\n",
    "\n",
    "plt.ylabel('Average Integration time [hour]')\n",
    "\n",
    "plt.title('Average Integration Time vs. Number of Telescopes, ShortestSlew')\n",
    "\n",
    "plt.legend(loc = 'best',labels = ['All pulsars as neighbour','10 earliest setting pulsar as neighbour'])"
   ]
  },
  {
   "cell_type": "code",
   "execution_count": 30,
   "metadata": {},
   "outputs": [
    {
     "data": {
      "text/plain": [
       "<matplotlib.legend.Legend at 0x23d3e2200c8>"
      ]
     },
     "execution_count": 30,
     "metadata": {},
     "output_type": "execute_result"
    },
    {
     "data": {
      "image/png": "[encoded data removed]",
      "text/plain": [
       "<Figure size 432x288 with 1 Axes>"
      ]
     },
     "metadata": {
      "needs_background": "light"
     },
     "output_type": "display_data"
    }
   ],
   "source": [
    "x = [1,2,3,4,5,6,7,8]\n",
    "y1 = [1,2,3,4,5,6,7,8]\n",
    "y2 = [1,2,3,4,5,6,7,8]\n",
    "for i in range(8):\n",
    "    y1[i] = ShortestSlew_mean[i,3]\n",
    "    y2[i] = neig10ShortestSlew_mean[i,3]\n",
    "    \n",
    "plt.plot(x,y1)\n",
    "plt.plot(x,y2)\n",
    "\n",
    "plt.xlabel('Number of Telescopes')\n",
    "\n",
    "plt.ylabel('Average waiting time [hour]')\n",
    "\n",
    "plt.title('Average Waiting Time vs. Number of Telescopes, ShortestSlew')\n",
    "plt.legend(loc = 'best',labels = ['All pulsars as neighbour','10 earliest setting pulsar as neighbour'])"
   ]
  },
  {
   "cell_type": "markdown",
   "metadata": {},
   "source": [
    "### Policy performance analysis using 3 telescopes test case\n",
    "#### Data import\n",
    "1. Simple ShortestSlew policy"
   ]
  },
  {
   "cell_type": "code",
   "execution_count": 16,
   "metadata": {},
   "outputs": [],
   "source": [
    "policy = 'ShortestSlew3'\n",
    "ShortestSlew_data = np.zeros([10, 3, 16])\n",
    "for i in range(10):\n",
    "    file_dir = 'results/'+dataset+'/'+ policy + '/' + 'batch_'+ str(i) +'_2017_3_21_13_0_0_.csv'\n",
    "    ShortestSlew_data[i,:,:] = data_reader(file_dir,range(5,8))\n",
    "    \n",
    "ShortestSlew_mean = np.mean(ShortestSlew_data, axis=0)"
   ]
  },
  {
   "cell_type": "markdown",
   "metadata": {},
   "source": [
    "2. Random policy"
   ]
  },
  {
   "cell_type": "code",
   "execution_count": 17,
   "metadata": {},
   "outputs": [],
   "source": [
    "policy = 'Random'\n",
    "Random_data = np.zeros([10, 3, 16])\n",
    "for i in range(10):\n",
    "    file_dir = 'results/'+dataset+'/'+ policy + '/' + 'batch_'+ str(i) +'_2017_3_21_13_0_0_.csv'\n",
    "    Random_data[i,:,:] = data_reader(file_dir,range(5,8))\n",
    "    \n",
    "Random_mean = np.mean(Random_data, axis=0)"
   ]
  },
  {
   "cell_type": "markdown",
   "metadata": {},
   "source": [
    "3. EarliestSetting"
   ]
  },
  {
   "cell_type": "code",
   "execution_count": 18,
   "metadata": {},
   "outputs": [],
   "source": [
    "policy = 'EarliestSetting'\n",
    "EarliestSetting_data = np.zeros([10, 3, 16])\n",
    "for i in range(10):\n",
    "    file_dir = 'results/'+dataset+'/'+ policy + '/' + 'batch_'+ str(i) +'_2017_3_21_13_0_0_.csv'\n",
    "    EarliestSetting_data[i,:,:] = data_reader(file_dir,range(5,8))\n",
    "    \n",
    "EarliestSetting_mean = np.mean(EarliestSetting_data, axis=0)"
   ]
  },
  {
   "cell_type": "markdown",
   "metadata": {},
   "source": [
    "4. MultipleTSP "
   ]
  },
  {
   "cell_type": "code",
   "execution_count": 19,
   "metadata": {},
   "outputs": [],
   "source": [
    "policy = 'tsp3'\n",
    "tsp_data = np.zeros([10, 3, 16])\n",
    "for i in range(10):\n",
    "    file_dir = 'results/'+dataset+'/'+ policy + '/' + 'batch_'+ str(i) +'_2017_3_21_13_0_0_.csv'\n",
    "    tsp_data[i,:,:] = data_reader(file_dir,range(5,8))\n",
    "    \n",
    "tsp_mean = np.mean(tsp_data, axis=0)"
   ]
  },
  {
   "cell_type": "markdown",
   "metadata": {},
   "source": [
    "#### Total observation duration"
   ]
  },
  {
   "cell_type": "code",
   "execution_count": 24,
   "metadata": {},
   "outputs": [
    {
     "data": {
      "text/plain": [
       "<matplotlib.legend.Legend at 0x23d3f8c8108>"
      ]
     },
     "execution_count": 24,
     "metadata": {},
     "output_type": "execute_result"
    },
    {
     "data": {
      "image/png": "[encoded data removed]",
      "text/plain": [
       "<Figure size 432x288 with 1 Axes>"
      ]
     },
     "metadata": {
      "needs_background": "light"
     },
     "output_type": "display_data"
    }
   ],
   "source": [
    "x_data = ['Random', 'ShortestSlew', 'EarliestSetting', 'MultipleTSP']\n",
    "x2_width = range(0,len(x_data))\n",
    "x1_width = [i-0.2 for i in x2_width]\n",
    "x3_width = [i+0.2 for i in x2_width]\n",
    "\n",
    "y_1 = [Random_mean[0,1], ShortestSlew_mean[0,1], EarliestSetting_mean[0,1], tsp_mean[0,1]]\n",
    "y_2 = [Random_mean[1,1], ShortestSlew_mean[1,1], EarliestSetting_mean[1,1], tsp_mean[1,1]]\n",
    "y_3 = [Random_mean[2,1], ShortestSlew_mean[2,1], EarliestSetting_mean[2,1], tsp_mean[2,1]]\n",
    "\n",
    "b1=plt.bar(x1_width,y_1,width=0.2,label=\"Telescope 1\")\n",
    "b2=plt.bar(x2_width,y_2,width=0.2,label=\"Telescope 2\")\n",
    "b3=plt.bar(x3_width,y_3,width=0.2,label=\"Telescope 3\")\n",
    "\n",
    "plt.xticks(range(len(x_data)),x_data)\n",
    "\n",
    "plt.title(\"Total observation duration\")\n",
    "plt.xlabel(\"Policy\")\n",
    "plt.ylabel(\"Average Time [hour]\")\n",
    "\n",
    "plt.bar_label(b1)\n",
    "plt.bar_label(b2)\n",
    "plt.bar_label(b3)\n",
    "plt.legend(loc = 'lower right')"
   ]
  },
  {
   "cell_type": "markdown",
   "metadata": {},
   "source": [
    "#### Total slew time"
   ]
  },
  {
   "cell_type": "code",
   "execution_count": null,
   "metadata": {},
   "outputs": [],
   "source": [
    "x_data = ['Random', 'ShortestSlew', 'EarliestSetting', 'MultipleTSP']\n",
    "x2_width = range(0,len(x_data))\n",
    "x1_width = [i-0.2 for i in x2_width]\n",
    "x3_width = [i+0.2 for i in x2_width]\n",
    "\n",
    "y_1 = [Random_mean[0,2], ShortestSlew_mean[0,2], EarliestSetting_mean[0,2], tsp_mean[0,2]]\n",
    "y_2 = [Random_mean[1,2], ShortestSlew_mean[1,2], EarliestSetting_mean[1,2], tsp_mean[1,2]]\n",
    "y_3 = [Random_mean[2,2], ShortestSlew_mean[2,2], EarliestSetting_mean[2,2], tsp_mean[2,2]]\n",
    "\n",
    "plt.bar(x1_width,y_1,width=0.2,label=\"Telescope 1\")\n",
    "plt.bar(x2_width,y_2,width=0.2,label=\"Telescope 2\")\n",
    "plt.bar(x3_width,y_3,width=0.2,label=\"Telescope 3\")\n",
    "\n",
    "plt.xticks(range(len(x_data)),x_data)\n",
    "\n",
    "plt.title(\"Total slew time\")\n",
    "plt.xlabel(\"Policy\")\n",
    "plt.ylabel(\"Average Time [hour]\")\n",
    "\n",
    "plt.legend()"
   ]
  },
  {
   "cell_type": "markdown",
   "metadata": {},
   "source": [
    "#### Total waiting time"
   ]
  },
  {
   "cell_type": "code",
   "execution_count": null,
   "metadata": {},
   "outputs": [],
   "source": [
    "x_data = ['Random', 'ShortestSlew', 'EarliestSetting', 'MultipleTSP']\n",
    "x2_width = range(0,len(x_data))\n",
    "x1_width = [i-0.2 for i in x2_width]\n",
    "x3_width = [i+0.2 for i in x2_width]\n",
    "\n",
    "y_1 = [Random_mean[0,3], ShortestSlew_mean[0,3], EarliestSetting_mean[0,3], tsp_mean[0,3]]\n",
    "y_2 = [Random_mean[1,3], ShortestSlew_mean[1,3], EarliestSetting_mean[1,3], tsp_mean[1,3]]\n",
    "y_3 = [Random_mean[2,3], ShortestSlew_mean[2,3], EarliestSetting_mean[2,3], tsp_mean[2,3]]\n",
    "\n",
    "plt.bar(x1_width,y_1,width=0.2,label=\"Telescope 1\")\n",
    "plt.bar(x2_width,y_2,width=0.2,label=\"Telescope 2\")\n",
    "plt.bar(x3_width,y_3,width=0.2,label=\"Telescope 3\")\n",
    "\n",
    "plt.xticks(range(len(x_data)),x_data)\n",
    "\n",
    "plt.title(\"Total waiting time\")\n",
    "plt.xlabel(\"Policy\")\n",
    "plt.ylabel(\"Average Time [hour]\")\n",
    "\n",
    "plt.legend(loc = 'lower right')"
   ]
  },
  {
   "cell_type": "markdown",
   "metadata": {},
   "source": [
    "### The main influencing factor analysis of observation time\n",
    "#### ShortestSlew Policy"
   ]
  },
  {
   "cell_type": "code",
   "execution_count": null,
   "metadata": {},
   "outputs": [],
   "source": [
    "telescope_mean = np.mean(ShortestSlew_data, axis = 1)\n",
    "\n",
    "x_data = [1,2,3,4,5,6,7,8,9,10]\n",
    "y_total = [1,2,3,4,5,6,7,8,9,10]\n",
    "y_slew = [1,2,3,4,5,6,7,8,9,10]\n",
    "y_wait = [1,2,3,4,5,6,7,8,9,10]\n",
    "y_obs = [1,2,3,4,5,6,7,8,9,10]\n",
    "for i in range(0,10):\n",
    "    y_total[i] = telescope_mean[i,1]\n",
    "    y_slew[i] = telescope_mean[i,2]\n",
    "    y_wait[i] = telescope_mean[i,3]\n",
    "    y_obs[i] = telescope_mean[i,4]\n",
    "    \n",
    "x0_width = range(0,len(x_data))\n",
    "x1_width = [i-0.1 for i in x0_width]\n",
    "x2_width = [i+0.1 for i in x0_width]\n",
    "\n",
    "plt.bar(x1_width,y_total,width=0.2,label=\"Total Integration time\")\n",
    "plt.bar(x2_width,y_wait,width=0.2,label=\"waiting time\")\n",
    "\n",
    "plt.xticks(range(len(x_data)),x_data)\n",
    "\n",
    "plt.title(\"relationship between total time and waiting time with shortestslew policy\")\n",
    "plt.xlabel(\"Test batch\")\n",
    "plt.ylabel(\"Time [hour]\")\n",
    "\n",
    "plt.legend(loc = 'lower right')"
   ]
  },
  {
   "cell_type": "code",
   "execution_count": null,
   "metadata": {
    "scrolled": false
   },
   "outputs": [],
   "source": [
    "plt.bar(x1_width,y_total,width=0.2,label=\"Total Integration time\")\n",
    "plt.bar(x2_width,y_obs,width=0.2,label=\"Observation time\")\n",
    "\n",
    "plt.xticks(range(len(x_data)),x_data)\n",
    "\n",
    "plt.title(\"relationship between total time and Observation time with shortestslew policy\")\n",
    "plt.xlabel(\"Test batch\")\n",
    "plt.ylabel(\"Time [hour]\")\n",
    "\n",
    "plt.legend(loc = 'lower right')"
   ]
  },
  {
   "cell_type": "markdown",
   "metadata": {},
   "source": [
    "#### MultipleTSP Policy"
   ]
  },
  {
   "cell_type": "code",
   "execution_count": null,
   "metadata": {},
   "outputs": [],
   "source": [
    "telescope_mean = np.mean(tsp_data, axis = 1)\n",
    "\n",
    "x_data = [1,2,3,4,5,6,7,8,9,10]\n",
    "y_total = [1,2,3,4,5,6,7,8,9,10]\n",
    "y_slew = [1,2,3,4,5,6,7,8,9,10]\n",
    "y_wait = [1,2,3,4,5,6,7,8,9,10]\n",
    "y_obs = [1,2,3,4,5,6,7,8,9,10]\n",
    "for i in range(0,10):\n",
    "    y_total[i] = telescope_mean[i,1]\n",
    "    y_slew[i] = telescope_mean[i,2]\n",
    "    y_wait[i] = telescope_mean[i,3]\n",
    "    y_obs[i] = telescope_mean[i,4]\n",
    "    \n",
    "x0_width = range(0,len(x_data))\n",
    "x1_width = [i-0.1 for i in x0_width]\n",
    "x2_width = [i+0.1 for i in x0_width]\n",
    "\n",
    "plt.bar(x1_width,y_total,width=0.2,label=\"Total Integration time\")\n",
    "plt.bar(x2_width,y_wait,width=0.2,label=\"waiting time\")\n",
    "\n",
    "plt.xticks(range(len(x_data)),x_data)\n",
    "\n",
    "plt.title(\"relationship between total time and waiting time with MultipleTSP policy\")\n",
    "plt.xlabel(\"Test batch\")\n",
    "plt.ylabel(\"Time [hour]\")\n",
    "\n",
    "plt.legend(loc = 'lower right')"
   ]
  },
  {
   "cell_type": "code",
   "execution_count": null,
   "metadata": {
    "scrolled": true
   },
   "outputs": [],
   "source": [
    "plt.bar(x1_width,y_total,width=0.2,label=\"Total Integration time\")\n",
    "plt.bar(x2_width,y_obs,width=0.2,label=\"Observation time\")\n",
    "\n",
    "plt.xticks(range(len(x_data)),x_data)\n",
    "\n",
    "plt.title(\"relationship between total time and Observation time with MultipleTSP policy\")\n",
    "plt.xlabel(\"Test batch\")\n",
    "plt.ylabel(\"Time [hour]\")\n",
    "\n",
    "plt.legend(loc = 'lower right')"
   ]
  },
  {
   "cell_type": "code",
   "execution_count": null,
   "metadata": {},
   "outputs": [],
   "source": []
  }
 ],
 "metadata": {
  "kernelspec": {
   "display_name": "Python 3",
   "language": "python",
   "name": "python3"
  },
  "language_info": {
   "codemirror_mode": {
    "name": "ipython",
    "version": 3
   },
   "file_extension": ".py",
   "mimetype": "text/x-python",
   "name": "python",
   "nbconvert_exporter": "python",
   "pygments_lexer": "ipython3",
   "version": "3.7.4"
  },
  "toc": {
   "base_numbering": 1,
   "nav_menu": {
    "height": "148px",
    "width": "210px"
   },
   "number_sections": true,
   "sideBar": true,
   "skip_h1_title": false,
   "title_cell": "Table of Contents",
   "title_sidebar": "Contents",
   "toc_cell": false,
   "toc_position": {},
   "toc_section_display": true,
   "toc_window_display": false
  }
 },
 "nbformat": 4,
 "nbformat_minor": 2
}
