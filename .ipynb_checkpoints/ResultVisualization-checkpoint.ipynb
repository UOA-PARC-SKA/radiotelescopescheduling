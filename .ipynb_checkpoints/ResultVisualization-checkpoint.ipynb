{
 "cells": [
  {
   "cell_type": "markdown",
   "metadata": {},
   "source": [
    "# Result visualization of Multiple telescopes scheduling"
   ]
  },
  {
   "cell_type": "code",
   "execution_count": 7,
   "metadata": {},
   "outputs": [],
   "source": [
    "import pandas as pd\n",
    "import numpy as np\n",
    "import matplotlib.mlab as mlab\n",
    "import matplotlib.pyplot as plt\n",
    "plt.rcParams[\"font.sans-serif\"]=['SimHei']\n",
    "plt.rcParams[\"axes.unicode_minus\"]=False"
   ]
  },
  {
   "cell_type": "code",
   "execution_count": 2,
   "metadata": {},
   "outputs": [],
   "source": [
    "def data_reader(file_dir):\n",
    "    col_names = ['No', 'Duration', 'Slew time', 'Wait time', 'Obs time', 'Rel slew', 'Rel wait', 'Rel obs', 'Max attempts',\n",
    "             'Times max att', 'Obs result 1', 'Obs result 2', 'Obs result 3', 'Obs result 4', 'Interruption 1', 'Interruption 2']\n",
    "    data = pd.read_csv(file_dir, names=col_names)\n",
    "    data = data.to_numpy()\n",
    "    return data[5:8,:]"
   ]
  },
  {
   "cell_type": "markdown",
   "metadata": {},
   "source": [
    "## Dataset 2"
   ]
  },
  {
   "cell_type": "markdown",
   "metadata": {},
   "source": [
    "### Number of telescopes"
   ]
  },
  {
   "cell_type": "markdown",
   "metadata": {},
   "source": [
    "#### Simple ShortestSlew policy"
   ]
  },
  {
   "cell_type": "code",
   "execution_count": null,
   "metadata": {},
   "outputs": [],
   "source": []
  },
  {
   "cell_type": "markdown",
   "metadata": {},
   "source": [
    "### Policy performance analysis using 3 telescopes test case\n",
    "#### Data import\n",
    "1. Simple ShortestSlew policy"
   ]
  },
  {
   "cell_type": "code",
   "execution_count": 3,
   "metadata": {},
   "outputs": [],
   "source": [
    "policy = 'ShortestSlew'\n",
    "ShortestSlew_data = np.zeros([10, 3, 16])\n",
    "for i in range(10):\n",
    "    file_dir = 'results/'+'dataset2'+'/'+ policy + '/' + 'batch_'+ str(i) +'_2017_3_21_13_0_0_.csv'\n",
    "    ShortestSlew_data[i,:,:] = data_reader(file_dir)\n",
    "    \n",
    "ShortestSlew_mean = np.mean(ShortestSlew_data, axis=0)"
   ]
  },
  {
   "cell_type": "markdown",
   "metadata": {},
   "source": [
    "2. Random policy"
   ]
  },
  {
   "cell_type": "code",
   "execution_count": 4,
   "metadata": {},
   "outputs": [],
   "source": [
    "policy = 'Random'\n",
    "Random_data = np.zeros([10, 3, 16])\n",
    "for i in range(10):\n",
    "    file_dir = 'results/'+'dataset2'+'/'+ policy + '/' + 'batch_'+ str(i) +'_2017_3_21_13_0_0_.csv'\n",
    "    Random_data[i,:,:] = data_reader(file_dir)\n",
    "    \n",
    "Random_mean = np.mean(Random_data, axis=0)"
   ]
  },
  {
   "cell_type": "markdown",
   "metadata": {},
   "source": [
    "3. EarliestSetting"
   ]
  },
  {
   "cell_type": "code",
   "execution_count": 5,
   "metadata": {},
   "outputs": [],
   "source": [
    "policy = 'EarliestSetting'\n",
    "EarliestSetting_data = np.zeros([10, 3, 16])\n",
    "for i in range(10):\n",
    "    file_dir = 'results/'+'dataset2'+'/'+ policy + '/' + 'batch_'+ str(i) +'_2017_3_21_13_0_0_.csv'\n",
    "    EarliestSetting_data[i,:,:] = data_reader(file_dir)\n",
    "    \n",
    "EarliestSetting_mean = np.mean(EarliestSetting_data, axis=0)"
   ]
  },
  {
   "cell_type": "markdown",
   "metadata": {},
   "source": [
    "#### Total observation duration"
   ]
  },
  {
   "cell_type": "code",
   "execution_count": 17,
   "metadata": {},
   "outputs": [
    {
     "data": {
      "text/plain": [
       "<matplotlib.legend.Legend at 0x231dfd88d48>"
      ]
     },
     "execution_count": 17,
     "metadata": {},
     "output_type": "execute_result"
    },
    {
     "data": {
      "image/png": "[encoded data removed]",
      "text/plain": [
       "<Figure size 432x288 with 1 Axes>"
      ]
     },
     "metadata": {
      "needs_background": "light"
     },
     "output_type": "display_data"
    }
   ],
   "source": [
    "x_data = ['Random', 'ShortestSlew', 'EarliestSetting']\n",
    "x2_width = range(0,len(x_data))\n",
    "x1_width = [i-0.2 for i in x2_width]\n",
    "x3_width = [i+0.2 for i in x2_width]\n",
    "\n",
    "y_1 = [Random_mean[0,1], ShortestSlew_mean[0,1], EarliestSetting_mean[0,1]]\n",
    "y_2 = [Random_mean[1,1], ShortestSlew_mean[1,1], EarliestSetting_mean[1,1]]\n",
    "y_3 = [Random_mean[2,1], ShortestSlew_mean[2,1], EarliestSetting_mean[2,1]]\n",
    "\n",
    "plt.bar(x1_width,y_1,width=0.2,label=\"Telescope 1\")\n",
    "plt.bar(x2_width,y_2,width=0.2,label=\"Telescope 2\")\n",
    "plt.bar(x3_width,y_3,width=0.2,label=\"Telescope 3\")\n",
    "\n",
    "plt.xticks(range(len(x_data)),x_data)\n",
    "\n",
    "plt.title(\"Total observation duration\")\n",
    "plt.xlabel(\"Policy\")\n",
    "plt.ylabel(\"Time [hour]\")\n",
    "\n",
    "plt.legend(loc = 'lower right')"
   ]
  },
  {
   "cell_type": "markdown",
   "metadata": {},
   "source": [
    "### Total slew time"
   ]
  },
  {
   "cell_type": "code",
   "execution_count": 15,
   "metadata": {},
   "outputs": [
    {
     "data": {
      "text/plain": [
       "<matplotlib.legend.Legend at 0x231decbd348>"
      ]
     },
     "execution_count": 15,
     "metadata": {},
     "output_type": "execute_result"
    },
    {
     "data": {
      "image/png": "[encoded data removed]",
      "text/plain": [
       "<Figure size 432x288 with 1 Axes>"
      ]
     },
     "metadata": {
      "needs_background": "light"
     },
     "output_type": "display_data"
    }
   ],
   "source": [
    "x_data = ['Random', 'ShortestSlew', 'EarliestSetting']\n",
    "x2_width = range(0,len(x_data))\n",
    "x1_width = [i-0.2 for i in x2_width]\n",
    "x3_width = [i+0.2 for i in x2_width]\n",
    "\n",
    "y_1 = [Random_mean[0,2], ShortestSlew_mean[0,2], EarliestSetting_mean[0,2]]\n",
    "y_2 = [Random_mean[1,2], ShortestSlew_mean[1,2], EarliestSetting_mean[1,2]]\n",
    "y_3 = [Random_mean[2,2], ShortestSlew_mean[2,2], EarliestSetting_mean[2,2]]\n",
    "\n",
    "plt.bar(x1_width,y_1,width=0.2,label=\"Telescope 1\")\n",
    "plt.bar(x2_width,y_2,width=0.2,label=\"Telescope 2\")\n",
    "plt.bar(x3_width,y_3,width=0.2,label=\"Telescope 3\")\n",
    "\n",
    "plt.xticks(range(len(x_data)),x_data)\n",
    "\n",
    "plt.title(\"Total slew time\")\n",
    "plt.xlabel(\"Policy\")\n",
    "plt.ylabel(\"Time [hour]\")\n",
    "\n",
    "plt.legend()"
   ]
  },
  {
   "cell_type": "markdown",
   "metadata": {},
   "source": [
    "### Total waiting time"
   ]
  },
  {
   "cell_type": "code",
   "execution_count": 16,
   "metadata": {},
   "outputs": [
    {
     "data": {
      "text/plain": [
       "<matplotlib.legend.Legend at 0x231decf7c88>"
      ]
     },
     "execution_count": 16,
     "metadata": {},
     "output_type": "execute_result"
    },
    {
     "data": {
      "image/png": "[encoded data removed]",
      "text/plain": [
       "<Figure size 432x288 with 1 Axes>"
      ]
     },
     "metadata": {
      "needs_background": "light"
     },
     "output_type": "display_data"
    }
   ],
   "source": [
    "x_data = ['Random', 'ShortestSlew', 'EarliestSetting']\n",
    "x2_width = range(0,len(x_data))\n",
    "x1_width = [i-0.2 for i in x2_width]\n",
    "x3_width = [i+0.2 for i in x2_width]\n",
    "\n",
    "y_1 = [Random_mean[0,3], ShortestSlew_mean[0,3], EarliestSetting_mean[0,3]]\n",
    "y_2 = [Random_mean[1,3], ShortestSlew_mean[1,3], EarliestSetting_mean[1,3]]\n",
    "y_3 = [Random_mean[2,3], ShortestSlew_mean[2,3], EarliestSetting_mean[2,3]]\n",
    "\n",
    "plt.bar(x1_width,y_1,width=0.2,label=\"Telescope 1\")\n",
    "plt.bar(x2_width,y_2,width=0.2,label=\"Telescope 2\")\n",
    "plt.bar(x3_width,y_3,width=0.2,label=\"Telescope 3\")\n",
    "\n",
    "plt.xticks(range(len(x_data)),x_data)\n",
    "\n",
    "plt.title(\"Total waiting time\")\n",
    "plt.xlabel(\"Policy\")\n",
    "plt.ylabel(\"Time [hour]\")\n",
    "\n",
    "plt.legend(loc = 'center right')"
   ]
  },
  {
   "cell_type": "code",
   "execution_count": null,
   "metadata": {},
   "outputs": [],
   "source": []
  }
 ],
 "metadata": {
  "kernelspec": {
   "display_name": "Python 3",
   "language": "python",
   "name": "python3"
  },
  "language_info": {
   "codemirror_mode": {
    "name": "ipython",
    "version": 3
   },
   "file_extension": ".py",
   "mimetype": "text/x-python",
   "name": "python",
   "nbconvert_exporter": "python",
   "pygments_lexer": "ipython3",
   "version": "3.7.4"
  },
  "toc": {
   "base_numbering": 1,
   "nav_menu": {
    "height": "148px",
    "width": "210px"
   },
   "number_sections": true,
   "sideBar": true,
   "skip_h1_title": false,
   "title_cell": "Table of Contents",
   "title_sidebar": "Contents",
   "toc_cell": false,
   "toc_position": {},
   "toc_section_display": true,
   "toc_window_display": false
  }
 },
 "nbformat": 4,
 "nbformat_minor": 2
}
